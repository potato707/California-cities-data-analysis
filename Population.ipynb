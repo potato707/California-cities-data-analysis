{
 "cells": [
  {
   "cell_type": "code",
   "execution_count": 2,
   "metadata": {},
   "outputs": [],
   "source": [
    "import numpy as np\n",
    "import pandas as pd"
   ]
  },
  {
   "cell_type": "code",
   "execution_count": 3,
   "metadata": {},
   "outputs": [],
   "source": [
    "df = pd.read_csv(\"Cities\\\\california_cities.csv\")"
   ]
  },
  {
   "cell_type": "code",
   "execution_count": 90,
   "metadata": {},
   "outputs": [
    {
     "data": {
      "text/html": [
       "<div>\n",
       "<style scoped>\n",
       "    .dataframe tbody tr th:only-of-type {\n",
       "        vertical-align: middle;\n",
       "    }\n",
       "\n",
       "    .dataframe tbody tr th {\n",
       "        vertical-align: top;\n",
       "    }\n",
       "\n",
       "    .dataframe thead th {\n",
       "        text-align: right;\n",
       "    }\n",
       "</style>\n",
       "<table border=\"1\" class=\"dataframe\">\n",
       "  <thead>\n",
       "    <tr style=\"text-align: right;\">\n",
       "      <th></th>\n",
       "      <th>Unnamed: 0</th>\n",
       "      <th>city</th>\n",
       "      <th>latd</th>\n",
       "      <th>longd</th>\n",
       "      <th>elevation_m</th>\n",
       "      <th>elevation_ft</th>\n",
       "      <th>population_total</th>\n",
       "      <th>area_total_sq_mi</th>\n",
       "      <th>area_land_sq_mi</th>\n",
       "      <th>area_water_sq_mi</th>\n",
       "      <th>area_total_km2</th>\n",
       "      <th>area_land_km2</th>\n",
       "      <th>area_water_km2</th>\n",
       "      <th>area_water_percent</th>\n",
       "    </tr>\n",
       "  </thead>\n",
       "  <tbody>\n",
       "    <tr>\n",
       "      <th>0</th>\n",
       "      <td>0</td>\n",
       "      <td>Adelanto</td>\n",
       "      <td>34.576111</td>\n",
       "      <td>-117.432778</td>\n",
       "      <td>875.0</td>\n",
       "      <td>2871.0</td>\n",
       "      <td>31765</td>\n",
       "      <td>56.027</td>\n",
       "      <td>56.009</td>\n",
       "      <td>0.018</td>\n",
       "      <td>145.107</td>\n",
       "      <td>145.062</td>\n",
       "      <td>0.046</td>\n",
       "      <td>0.03</td>\n",
       "    </tr>\n",
       "    <tr>\n",
       "      <th>1</th>\n",
       "      <td>1</td>\n",
       "      <td>AgouraHills</td>\n",
       "      <td>34.153333</td>\n",
       "      <td>-118.761667</td>\n",
       "      <td>281.0</td>\n",
       "      <td>922.0</td>\n",
       "      <td>20330</td>\n",
       "      <td>7.822</td>\n",
       "      <td>7.793</td>\n",
       "      <td>0.029</td>\n",
       "      <td>20.260</td>\n",
       "      <td>20.184</td>\n",
       "      <td>0.076</td>\n",
       "      <td>0.37</td>\n",
       "    </tr>\n",
       "    <tr>\n",
       "      <th>2</th>\n",
       "      <td>2</td>\n",
       "      <td>Alameda</td>\n",
       "      <td>37.756111</td>\n",
       "      <td>-122.274444</td>\n",
       "      <td>NaN</td>\n",
       "      <td>33.0</td>\n",
       "      <td>75467</td>\n",
       "      <td>22.960</td>\n",
       "      <td>10.611</td>\n",
       "      <td>12.349</td>\n",
       "      <td>59.465</td>\n",
       "      <td>27.482</td>\n",
       "      <td>31.983</td>\n",
       "      <td>53.79</td>\n",
       "    </tr>\n",
       "    <tr>\n",
       "      <th>3</th>\n",
       "      <td>3</td>\n",
       "      <td>Albany</td>\n",
       "      <td>37.886944</td>\n",
       "      <td>-122.297778</td>\n",
       "      <td>NaN</td>\n",
       "      <td>43.0</td>\n",
       "      <td>18969</td>\n",
       "      <td>5.465</td>\n",
       "      <td>1.788</td>\n",
       "      <td>3.677</td>\n",
       "      <td>14.155</td>\n",
       "      <td>4.632</td>\n",
       "      <td>9.524</td>\n",
       "      <td>67.28</td>\n",
       "    </tr>\n",
       "    <tr>\n",
       "      <th>4</th>\n",
       "      <td>4</td>\n",
       "      <td>Alhambra</td>\n",
       "      <td>34.081944</td>\n",
       "      <td>-118.135000</td>\n",
       "      <td>150.0</td>\n",
       "      <td>492.0</td>\n",
       "      <td>83089</td>\n",
       "      <td>7.632</td>\n",
       "      <td>7.631</td>\n",
       "      <td>0.001</td>\n",
       "      <td>19.766</td>\n",
       "      <td>19.763</td>\n",
       "      <td>0.003</td>\n",
       "      <td>0.01</td>\n",
       "    </tr>\n",
       "  </tbody>\n",
       "</table>\n",
       "</div>"
      ],
      "text/plain": [
       "   Unnamed: 0         city       latd       longd  elevation_m  elevation_ft  \\\n",
       "0           0     Adelanto  34.576111 -117.432778        875.0        2871.0   \n",
       "1           1  AgouraHills  34.153333 -118.761667        281.0         922.0   \n",
       "2           2      Alameda  37.756111 -122.274444          NaN          33.0   \n",
       "3           3       Albany  37.886944 -122.297778          NaN          43.0   \n",
       "4           4     Alhambra  34.081944 -118.135000        150.0         492.0   \n",
       "\n",
       "   population_total  area_total_sq_mi  area_land_sq_mi  area_water_sq_mi  \\\n",
       "0             31765            56.027           56.009             0.018   \n",
       "1             20330             7.822            7.793             0.029   \n",
       "2             75467            22.960           10.611            12.349   \n",
       "3             18969             5.465            1.788             3.677   \n",
       "4             83089             7.632            7.631             0.001   \n",
       "\n",
       "   area_total_km2  area_land_km2  area_water_km2  area_water_percent  \n",
       "0         145.107        145.062           0.046                0.03  \n",
       "1          20.260         20.184           0.076                0.37  \n",
       "2          59.465         27.482          31.983               53.79  \n",
       "3          14.155          4.632           9.524               67.28  \n",
       "4          19.766         19.763           0.003                0.01  "
      ]
     },
     "execution_count": 90,
     "metadata": {},
     "output_type": "execute_result"
    }
   ],
   "source": [
    "df.head()"
   ]
  },
  {
   "cell_type": "code",
   "execution_count": 91,
   "metadata": {},
   "outputs": [
    {
     "data": {
      "text/html": [
       "<div>\n",
       "<style scoped>\n",
       "    .dataframe tbody tr th:only-of-type {\n",
       "        vertical-align: middle;\n",
       "    }\n",
       "\n",
       "    .dataframe tbody tr th {\n",
       "        vertical-align: top;\n",
       "    }\n",
       "\n",
       "    .dataframe thead th {\n",
       "        text-align: right;\n",
       "    }\n",
       "</style>\n",
       "<table border=\"1\" class=\"dataframe\">\n",
       "  <thead>\n",
       "    <tr style=\"text-align: right;\">\n",
       "      <th></th>\n",
       "      <th>Unnamed: 0</th>\n",
       "      <th>city</th>\n",
       "      <th>latd</th>\n",
       "      <th>longd</th>\n",
       "      <th>elevation_m</th>\n",
       "      <th>elevation_ft</th>\n",
       "      <th>population_total</th>\n",
       "      <th>area_total_sq_mi</th>\n",
       "      <th>area_land_sq_mi</th>\n",
       "      <th>area_water_sq_mi</th>\n",
       "      <th>area_total_km2</th>\n",
       "      <th>area_land_km2</th>\n",
       "      <th>area_water_km2</th>\n",
       "      <th>area_water_percent</th>\n",
       "    </tr>\n",
       "  </thead>\n",
       "  <tbody>\n",
       "    <tr>\n",
       "      <th>477</th>\n",
       "      <td>477</td>\n",
       "      <td>Yountville</td>\n",
       "      <td>38.403056</td>\n",
       "      <td>-122.362222</td>\n",
       "      <td>30.0</td>\n",
       "      <td>98.0</td>\n",
       "      <td>2933</td>\n",
       "      <td>1.531</td>\n",
       "      <td>1.531</td>\n",
       "      <td>0.000</td>\n",
       "      <td>3.966</td>\n",
       "      <td>3.966</td>\n",
       "      <td>0.000</td>\n",
       "      <td>0.00</td>\n",
       "    </tr>\n",
       "    <tr>\n",
       "      <th>478</th>\n",
       "      <td>478</td>\n",
       "      <td>Yreka</td>\n",
       "      <td>41.726667</td>\n",
       "      <td>-122.637500</td>\n",
       "      <td>787.0</td>\n",
       "      <td>2582.0</td>\n",
       "      <td>7765</td>\n",
       "      <td>10.053</td>\n",
       "      <td>9.980</td>\n",
       "      <td>0.073</td>\n",
       "      <td>26.036</td>\n",
       "      <td>25.847</td>\n",
       "      <td>0.188</td>\n",
       "      <td>0.72</td>\n",
       "    </tr>\n",
       "    <tr>\n",
       "      <th>479</th>\n",
       "      <td>479</td>\n",
       "      <td>YubaCity</td>\n",
       "      <td>39.134722</td>\n",
       "      <td>-121.626111</td>\n",
       "      <td>18.0</td>\n",
       "      <td>59.0</td>\n",
       "      <td>64925</td>\n",
       "      <td>14.656</td>\n",
       "      <td>14.578</td>\n",
       "      <td>0.078</td>\n",
       "      <td>37.959</td>\n",
       "      <td>37.758</td>\n",
       "      <td>0.201</td>\n",
       "      <td>0.53</td>\n",
       "    </tr>\n",
       "    <tr>\n",
       "      <th>480</th>\n",
       "      <td>480</td>\n",
       "      <td>Yucaipa</td>\n",
       "      <td>34.030278</td>\n",
       "      <td>-117.048611</td>\n",
       "      <td>798.0</td>\n",
       "      <td>2618.0</td>\n",
       "      <td>51367</td>\n",
       "      <td>27.893</td>\n",
       "      <td>27.888</td>\n",
       "      <td>0.005</td>\n",
       "      <td>72.244</td>\n",
       "      <td>72.231</td>\n",
       "      <td>0.013</td>\n",
       "      <td>0.02</td>\n",
       "    </tr>\n",
       "    <tr>\n",
       "      <th>481</th>\n",
       "      <td>481</td>\n",
       "      <td>YuccaValley</td>\n",
       "      <td>34.133333</td>\n",
       "      <td>-116.416667</td>\n",
       "      <td>1027.0</td>\n",
       "      <td>3369.0</td>\n",
       "      <td>20700</td>\n",
       "      <td>40.015</td>\n",
       "      <td>40.015</td>\n",
       "      <td>0.000</td>\n",
       "      <td>103.639</td>\n",
       "      <td>103.639</td>\n",
       "      <td>0.000</td>\n",
       "      <td>0.00</td>\n",
       "    </tr>\n",
       "  </tbody>\n",
       "</table>\n",
       "</div>"
      ],
      "text/plain": [
       "     Unnamed: 0         city       latd       longd  elevation_m  \\\n",
       "477         477   Yountville  38.403056 -122.362222         30.0   \n",
       "478         478        Yreka  41.726667 -122.637500        787.0   \n",
       "479         479     YubaCity  39.134722 -121.626111         18.0   \n",
       "480         480      Yucaipa  34.030278 -117.048611        798.0   \n",
       "481         481  YuccaValley  34.133333 -116.416667       1027.0   \n",
       "\n",
       "     elevation_ft  population_total  area_total_sq_mi  area_land_sq_mi  \\\n",
       "477          98.0              2933             1.531            1.531   \n",
       "478        2582.0              7765            10.053            9.980   \n",
       "479          59.0             64925            14.656           14.578   \n",
       "480        2618.0             51367            27.893           27.888   \n",
       "481        3369.0             20700            40.015           40.015   \n",
       "\n",
       "     area_water_sq_mi  area_total_km2  area_land_km2  area_water_km2  \\\n",
       "477             0.000           3.966          3.966           0.000   \n",
       "478             0.073          26.036         25.847           0.188   \n",
       "479             0.078          37.959         37.758           0.201   \n",
       "480             0.005          72.244         72.231           0.013   \n",
       "481             0.000         103.639        103.639           0.000   \n",
       "\n",
       "     area_water_percent  \n",
       "477                0.00  \n",
       "478                0.72  \n",
       "479                0.53  \n",
       "480                0.02  \n",
       "481                0.00  "
      ]
     },
     "execution_count": 91,
     "metadata": {},
     "output_type": "execute_result"
    }
   ],
   "source": [
    "df.tail()"
   ]
  },
  {
   "cell_type": "code",
   "execution_count": 92,
   "metadata": {},
   "outputs": [
    {
     "name": "stdout",
     "output_type": "stream",
     "text": [
      "<class 'pandas.core.frame.DataFrame'>\n",
      "RangeIndex: 482 entries, 0 to 481\n",
      "Data columns (total 14 columns):\n",
      " #   Column              Non-Null Count  Dtype  \n",
      "---  ------              --------------  -----  \n",
      " 0   Unnamed: 0          482 non-null    int64  \n",
      " 1   city                482 non-null    object \n",
      " 2   latd                482 non-null    float64\n",
      " 3   longd               482 non-null    float64\n",
      " 4   elevation_m         434 non-null    float64\n",
      " 5   elevation_ft        470 non-null    float64\n",
      " 6   population_total    482 non-null    int64  \n",
      " 7   area_total_sq_mi    480 non-null    float64\n",
      " 8   area_land_sq_mi     482 non-null    float64\n",
      " 9   area_water_sq_mi    481 non-null    float64\n",
      " 10  area_total_km2      477 non-null    float64\n",
      " 11  area_land_km2       478 non-null    float64\n",
      " 12  area_water_km2      478 non-null    float64\n",
      " 13  area_water_percent  477 non-null    float64\n",
      "dtypes: float64(11), int64(2), object(1)\n",
      "memory usage: 52.8+ KB\n"
     ]
    }
   ],
   "source": [
    "df.info()"
   ]
  },
  {
   "cell_type": "code",
   "execution_count": 106,
   "metadata": {},
   "outputs": [
    {
     "data": {
      "text/plain": [
       "False"
      ]
     },
     "execution_count": 106,
     "metadata": {},
     "output_type": "execute_result"
    }
   ],
   "source": [
    "df = df.drop(columns = \"Unnamed: 0\")\n",
    "df = df.dropna(how = 'any', axis = 0)"
   ]
  },
  {
   "cell_type": "markdown",
   "metadata": {},
   "source": [
    "### < Top 3 California cities based on their population >"
   ]
  },
  {
   "cell_type": "markdown",
   "metadata": {},
   "source": [
    "#### 1st city"
   ]
  },
  {
   "cell_type": "code",
   "execution_count": 107,
   "metadata": {},
   "outputs": [
    {
     "data": {
      "text/plain": [
       "city                  LosAngeles\n",
       "latd                       34.05\n",
       "longd                    -118.25\n",
       "elevation_m                   71\n",
       "elevation_ft                   2\n",
       "population_total         3884307\n",
       "area_total_sq_mi             503\n",
       "area_land_sq_mi              469\n",
       "area_water_sq_mi              34\n",
       "area_total_km2              1302\n",
       "area_land_km2               1214\n",
       "area_water_km2                88\n",
       "area_water_percent           6.7\n",
       "Name: 239, dtype: object"
      ]
     },
     "execution_count": 107,
     "metadata": {},
     "output_type": "execute_result"
    }
   ],
   "source": [
    "first = df.iloc[df['population_total'].argmax()]\n",
    "first"
   ]
  },
  {
   "cell_type": "markdown",
   "metadata": {},
   "source": [
    "#### 2nd city"
   ]
  },
  {
   "cell_type": "code",
   "execution_count": 108,
   "metadata": {},
   "outputs": [
    {
     "data": {
      "text/plain": [
       "city                  LosBanos\n",
       "latd                   37.0583\n",
       "longd                  -120.85\n",
       "elevation_m                 36\n",
       "elevation_ft               118\n",
       "population_total         35972\n",
       "area_total_sq_mi        10.117\n",
       "area_land_sq_mi          9.993\n",
       "area_water_sq_mi         0.124\n",
       "area_total_km2          26.203\n",
       "area_land_km2           25.882\n",
       "area_water_km2           0.321\n",
       "area_water_percent        1.22\n",
       "Name: 240, dtype: object"
      ]
     },
     "execution_count": 108,
     "metadata": {},
     "output_type": "execute_result"
    }
   ],
   "source": [
    "second = df[df['city'] != 'LosAngeles'].iloc[df['population_total'].argmax()]\n",
    "second"
   ]
  },
  {
   "cell_type": "markdown",
   "metadata": {},
   "source": [
    "#### 3rd city"
   ]
  },
  {
   "cell_type": "code",
   "execution_count": 109,
   "metadata": {
    "scrolled": true
   },
   "outputs": [
    {
     "data": {
      "text/plain": [
       "city                  LosGatos\n",
       "latd                   37.2361\n",
       "longd                 -121.962\n",
       "elevation_m                105\n",
       "elevation_ft               344\n",
       "population_total         29413\n",
       "area_total_sq_mi         11.16\n",
       "area_land_sq_mi          11.08\n",
       "area_water_sq_mi          0.08\n",
       "area_total_km2          28.903\n",
       "area_land_km2           28.697\n",
       "area_water_km2           0.206\n",
       "area_water_percent        0.71\n",
       "Name: 241, dtype: object"
      ]
     },
     "execution_count": 109,
     "metadata": {},
     "output_type": "execute_result"
    }
   ],
   "source": [
    "thierd = df[(df['city'] != 'LosAngeles') & (df['city'] != 'LosBanos')].iloc[df['population_total'].argmax()]\n",
    "thierd"
   ]
  },
  {
   "cell_type": "markdown",
   "metadata": {},
   "source": [
    "### </ >"
   ]
  },
  {
   "cell_type": "markdown",
   "metadata": {},
   "source": [
    "#### What we can understand from the previous data that 1st city has more population for its area_total_km2"
   ]
  },
  {
   "cell_type": "markdown",
   "metadata": {},
   "source": [
    "#### However 3nd City has more area_total_km2 than the 2nd City but less population?"
   ]
  },
  {
   "cell_type": "markdown",
   "metadata": {},
   "source": [
    "#### There's no much difference between the 2nd City and 3nd City in area_total_km2 "
   ]
  },
  {
   "cell_type": "code",
   "execution_count": 110,
   "metadata": {},
   "outputs": [
    {
     "data": {
      "text/plain": [
       "2.699999999999992"
      ]
     },
     "execution_count": 110,
     "metadata": {},
     "output_type": "execute_result"
    }
   ],
   "source": [
    "thierd['area_total_km2'] - second[\"area_total_km2\"]"
   ]
  },
  {
   "cell_type": "markdown",
   "metadata": {},
   "source": [
    "#### So the area_water_km2 took place here, Everybody loves water .. Right ?"
   ]
  },
  {
   "cell_type": "markdown",
   "metadata": {},
   "source": [
    "#### But wait, Why didn't elevation take place here? I thought people are attracted more to Low/Medium temperature, In other words: elevation"
   ]
  },
  {
   "cell_type": "markdown",
   "metadata": {},
   "source": [
    "#### I don't have the tempratures to decide the reason but let's check the highest, lowest cities in elevation and see if that matters to the population"
   ]
  },
  {
   "cell_type": "markdown",
   "metadata": {},
   "source": [
    "### < The highest city in elevation >"
   ]
  },
  {
   "cell_type": "code",
   "execution_count": 116,
   "metadata": {},
   "outputs": [
    {
     "data": {
      "text/plain": [
       "city                  MammothLakes\n",
       "latd                       37.6486\n",
       "longd                     -118.972\n",
       "elevation_m                   2402\n",
       "elevation_ft                  7880\n",
       "population_total              8234\n",
       "area_total_sq_mi            25.306\n",
       "area_land_sq_mi             24.866\n",
       "area_water_sq_mi              0.44\n",
       "area_total_km2              65.541\n",
       "area_land_km2               64.402\n",
       "area_water_km2               1.139\n",
       "area_water_percent            1.74\n",
       "Name: 246, dtype: object"
      ]
     },
     "execution_count": 116,
     "metadata": {},
     "output_type": "execute_result"
    }
   ],
   "source": [
    "df.iloc[df['elevation_m'].argmax()]"
   ]
  },
  {
   "cell_type": "markdown",
   "metadata": {},
   "source": [
    "#### Looks like `MammothLakes` is in the sky haha-"
   ]
  },
  {
   "cell_type": "markdown",
   "metadata": {},
   "source": [
    "### </ >"
   ]
  },
  {
   "cell_type": "markdown",
   "metadata": {},
   "source": [
    "### < The lowest city in elevation >"
   ]
  },
  {
   "cell_type": "code",
   "execution_count": 117,
   "metadata": {},
   "outputs": [
    {
     "data": {
      "text/plain": [
       "city                  Brawley\n",
       "latd                  32.9786\n",
       "longd                 -115.53\n",
       "elevation_m               -34\n",
       "elevation_ft             -112\n",
       "population_total        24953\n",
       "area_total_sq_mi        7.682\n",
       "area_land_sq_mi         7.682\n",
       "area_water_sq_mi            0\n",
       "area_total_km2         19.895\n",
       "area_land_km2          19.895\n",
       "area_water_km2              0\n",
       "area_water_percent          0\n",
       "Name: 45, dtype: object"
      ]
     },
     "execution_count": 117,
     "metadata": {},
     "output_type": "execute_result"
    }
   ],
   "source": [
    "df.iloc[df['elevation_m'].argmin()]"
   ]
  },
  {
   "cell_type": "markdown",
   "metadata": {},
   "source": [
    "### </ >"
   ]
  },
  {
   "cell_type": "markdown",
   "metadata": {},
   "source": [
    "#### Alright .. Brawley has less area, No water and It's undergroud."
   ]
  },
  {
   "cell_type": "markdown",
   "metadata": {},
   "source": [
    "#### However It has so much population comparing to `MammothLakes`"
   ]
  },
  {
   "cell_type": "markdown",
   "metadata": {},
   "source": [
    "#### But why? Probably the temprature"
   ]
  },
  {
   "cell_type": "markdown",
   "metadata": {},
   "source": [
    "### The average annual temperature in Brawley is 22.4 °C | 72.3 °F. About 62 mm | 2.4 inch of precipitation falls annually."
   ]
  },
  {
   "cell_type": "markdown",
   "metadata": {},
   "source": [
    "### The average annual temperature is 5.2 °C | 41.3 °F in Mammoth Lakes."
   ]
  },
  {
   "cell_type": "markdown",
   "metadata": {},
   "source": [
    "#### What about our previous example? The toppest cities in population"
   ]
  },
  {
   "cell_type": "markdown",
   "metadata": {},
   "source": [
    "### Los Angeles: https://www.rssweather.com/climate/California/Los%20Angeles%20County/"
   ]
  },
  {
   "cell_type": "markdown",
   "metadata": {},
   "source": [
    "### Perfect, Isn't it?"
   ]
  },
  {
   "cell_type": "markdown",
   "metadata": {},
   "source": [
    "### In Los Banos, the average annual temperature is 16.5 °C | 61.8 °F.\n"
   ]
  },
  {
   "cell_type": "markdown",
   "metadata": {},
   "source": [
    "### Los Gatos: https://www.areavibes.com/los+gatos-ca/weather/"
   ]
  },
  {
   "cell_type": "code",
   "execution_count": null,
   "metadata": {},
   "outputs": [],
   "source": []
  }
 ],
 "metadata": {
  "kernelspec": {
   "display_name": "Python 3",
   "language": "python",
   "name": "python3"
  },
  "language_info": {
   "codemirror_mode": {
    "name": "ipython",
    "version": 3
   },
   "file_extension": ".py",
   "mimetype": "text/x-python",
   "name": "python",
   "nbconvert_exporter": "python",
   "pygments_lexer": "ipython3",
   "version": "3.7.6"
  }
 },
 "nbformat": 4,
 "nbformat_minor": 4
}
